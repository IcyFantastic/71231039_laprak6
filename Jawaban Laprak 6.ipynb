{
 "cells": [
  {
   "cell_type": "markdown",
   "metadata": {},
   "source": [
    "Latihan 6.1"
   ]
  },
  {
   "cell_type": "code",
   "execution_count": 12,
   "metadata": {},
   "outputs": [
    {
     "name": "stdout",
     "output_type": "stream",
     "text": [
      "Bilangan Prima < 12 Adalah Angka 11\n"
     ]
    }
   ],
   "source": [
    "def bil_prima(bilangan):\n",
    "    if bilangan < 2:\n",
    "        return False\n",
    "    for i in range(2, int(bilangan ** 0.5) + 1):\n",
    "        if bilangan % i == 0:\n",
    "            return False\n",
    "    return True\n",
    "\n",
    "bilangan_terdekat = int(input(\"Masukan Bilangan: \"))\n",
    "prima = bilangan_terdekat - 1\n",
    "\n",
    "while not bil_prima(prima):\n",
    "    prima -= 1\n",
    "\n",
    "print(f\"Bilangan Prima < {bilangan_terdekat} Adalah Angka {prima}\")"
   ]
  },
  {
   "cell_type": "markdown",
   "metadata": {},
   "source": [
    "Latihan 6.2"
   ]
  },
  {
   "cell_type": "code",
   "execution_count": 16,
   "metadata": {},
   "outputs": [
    {
     "name": "stdout",
     "output_type": "stream",
     "text": [
      "n =  6\n",
      "720 6 5 4 3 2 1 \n",
      "120 5 4 3 2 1 \n",
      "24 4 3 2 1 \n",
      "6 3 2 1 \n",
      "2 2 1 \n",
      "1 1 \n"
     ]
    }
   ],
   "source": [
    "masukan_angka = int(input(\"Masukan Angka: \"))\n",
    "print(\"n = \", masukan_angka)\n",
    "\n",
    "def faktorial(masukan_angka):\n",
    "    akhir = 1\n",
    "    for i in range(1, masukan_angka + 1):\n",
    "        akhir = akhir * i\n",
    "    return akhir\n",
    "\n",
    "for i in range(masukan_angka, 0, -1):\n",
    "    for j in range (i, 0, -1):\n",
    "        if j == i:\n",
    "            print(faktorial(i), end=\" \")\n",
    "        print(j, end=\" \")\n",
    "    print()"
   ]
  },
  {
   "cell_type": "markdown",
   "metadata": {},
   "source": [
    "Latihan 6.3"
   ]
  },
  {
   "cell_type": "code",
   "execution_count": 17,
   "metadata": {},
   "outputs": [
    {
     "name": "stdout",
     "output_type": "stream",
     "text": [
      "Tinggi =  5\n",
      "Lebar =  4\n",
      "1 2 3 4 \n",
      "5 6 7 8 \n",
      "9 10 11 12 \n",
      "13 14 15 16 \n",
      "17 18 19 20 \n"
     ]
    }
   ],
   "source": [
    "tinggi = int(input(\"Masukan Tinggi : \"))\n",
    "print(\"Tinggi = \", tinggi)\n",
    "lebar = int(input(\"Masukan Lebar : \"))\n",
    "print(\"Lebar = \", lebar)\n",
    "\n",
    "luas = tinggi * lebar\n",
    "angka = 0\n",
    "\n",
    "\n",
    "while angka != luas:\n",
    "    for a in range(lebar):\n",
    "        angka += 1\n",
    "        print(angka, end=\" \")\n",
    "    print()"
   ]
  }
 ],
 "metadata": {
  "kernelspec": {
   "display_name": "Python 3",
   "language": "python",
   "name": "python3"
  },
  "language_info": {
   "name": "python",
   "version": "3.12.0"
  }
 },
 "nbformat": 4,
 "nbformat_minor": 2
}
